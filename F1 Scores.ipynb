{
 "cells": [
  {
   "cell_type": "markdown",
   "metadata": {},
   "source": [
    "# Import Libraries"
   ]
  },
  {
   "cell_type": "code",
   "execution_count": 1,
   "metadata": {
    "ExecuteTime": {
     "end_time": "2020-11-11T19:17:20.557351Z",
     "start_time": "2020-11-11T19:17:18.744165Z"
    }
   },
   "outputs": [],
   "source": [
    "from nf1 import NF1\n",
    "import networkx as nx\n",
    "from networkx.algorithms import community\n",
    "from networkx.algorithms.community import greedy_modularity_communities\n",
    "from community import community_louvain\n",
    "import community as community\n",
    "from nf1 import NF1\n",
    "import networkx as nx\n",
    "from networkx.algorithms import community"
   ]
  },
  {
   "cell_type": "markdown",
   "metadata": {
    "ExecuteTime": {
     "end_time": "2020-11-11T18:38:04.243152Z",
     "start_time": "2020-11-11T18:38:04.217692Z"
    }
   },
   "source": [
    "<a href=\"https://www.codecogs.com/eqnedit.php?latex=F1&space;=&space;\\frac{2&space;\\cdot&space;precision\\cdot&space;recall}{precision&plus;&space;recall}\" target=\"_blank\"><img src=\"https://latex.codecogs.com/gif.latex?F1&space;=&space;\\frac{2&space;\\cdot&space;precision\\cdot&space;recall}{precision&plus;&space;recall}\" title=\"F1 = \\frac{2 \\cdot precision\\cdot recall}{precision+ recall}\" /></a>"
   ]
  },
  {
   "cell_type": "code",
   "execution_count": 5,
   "metadata": {
    "ExecuteTime": {
     "end_time": "2020-11-11T19:25:15.566380Z",
     "start_time": "2020-11-11T19:25:05.607412Z"
    }
   },
   "outputs": [
    {
     "name": "stdout",
     "output_type": "stream",
     "text": [
      "                               Value\n",
      "Index                               \n",
      "Ground Truth Communities  544.000000\n",
      "Identified Communities    426.000000\n",
      "Community Ratio             0.783088\n",
      "Ground Truth Matched        0.193015\n",
      "Node Coverage               2.212748\n",
      "NF1                         0.029442\n",
      "   F1 min  F1 max   F1 mean  F1 mode    F1 std\n",
      "0    0.04     1.0  0.618857      1.0  0.317698\n"
     ]
    },
    {
     "data": {
      "image/png": "[encoded data removed]",
      "text/plain": [
       "<Figure size 432x288 with 2 Axes>"
      ]
     },
     "metadata": {
      "needs_background": "light"
     },
     "output_type": "display_data"
    }
   ],
   "source": [
    "g = nx.read_edgelist(\"ca-GrQc.txt\",create_using = nx.Graph())\n",
    "\n",
    "kclique = list(greedy_modularity_communities(g))\n",
    "kcoms = [tuple(x) for x in kclique]\n",
    "\n",
    "lp = list(community.k_clique_communities(g, 4))\n",
    "lpcoms = [tuple(x) for x in lp]\n",
    "\n",
    "\n",
    "# Computing the NF1 scores and statistics\n",
    "nf = NF1(kclique,lpcoms)\n",
    "results = nf.summary()\n",
    "\n",
    "print(results['scores'])\n",
    "print(results['details'])\n",
    "\n",
    "# Visualising the Precision-Recall density scatter-plot\n",
    "nf.plot()"
   ]
  },
  {
   "cell_type": "code",
   "execution_count": 35,
   "metadata": {},
   "outputs": [
    {
     "name": "stdout",
     "output_type": "stream",
     "text": [
      "                                Value\n",
      "Index                                \n",
      "Ground Truth Communities   544.000000\n",
      "Identified Communities    1018.000000\n",
      "Community Ratio              1.871324\n",
      "Ground Truth Matched         0.761029\n",
      "Node Coverage                2.212748\n",
      "NF1                          0.177231\n",
      "   F1 min  F1 max   F1 mean  F1 mode    F1 std\n",
      "0    0.01     1.0  0.572645      1.0  0.271426\n"
     ]
    },
    {
     "data": {
      "image/png": "[encoded data removed]",
      "text/plain": [
       "<Figure size 432x288 with 2 Axes>"
      ]
     },
     "metadata": {
      "needs_background": "light"
     },
     "output_type": "display_data"
    }
   ],
   "source": [
    "\n",
    "kclique2 = list(community.k_clique_communities(g, 4))\n",
    "kcoms2 = [tuple(x) for x in kclique2]\n",
    "\n",
    "lp2 = list(community.label_propagation_communities(g))\n",
    "lpcoms2 = [tuple(x) for x in lp2]\n",
    "\n",
    "# Computing the NF1 scores and statistics\n",
    "nf2 = NF1(lpcoms2, kcoms2)\n",
    "results = nf2.summary()\n",
    "print(results['scores'])\n",
    "print(results['details'])\n",
    "\n",
    "# Visualising the Precision-Recall density scatter-plot\n",
    "nf.plot()"
   ]
  },
  {
   "cell_type": "code",
   "execution_count": null,
   "metadata": {},
   "outputs": [],
   "source": []
  }
 ],
 "metadata": {
  "hide_input": false,
  "kernelspec": {
   "display_name": "Python 3",
   "language": "python",
   "name": "python3"
  },
  "language_info": {
   "codemirror_mode": {
    "name": "ipython",
    "version": 3
   },
   "file_extension": ".py",
   "mimetype": "text/x-python",
   "name": "python",
   "nbconvert_exporter": "python",
   "pygments_lexer": "ipython3",
   "version": "3.8.5"
  },
  "latex_envs": {
   "LaTeX_envs_menu_present": true,
   "autoclose": false,
   "autocomplete": true,
   "bibliofile": "biblio.bib",
   "cite_by": "apalike",
   "current_citInitial": 1,
   "eqLabelWithNumbers": true,
   "eqNumInitial": 1,
   "hotkeys": {
    "equation": "Ctrl-E",
    "itemize": "Ctrl-I"
   },
   "labels_anchors": false,
   "latex_user_defs": false,
   "report_style_numbering": false,
   "user_envs_cfg": false
  },
  "toc": {
   "base_numbering": 1,
   "nav_menu": {},
   "number_sections": true,
   "sideBar": true,
   "skip_h1_title": false,
   "title_cell": "Table of Contents",
   "title_sidebar": "Contents",
   "toc_cell": false,
   "toc_position": {},
   "toc_section_display": true,
   "toc_window_display": false
  },
  "varInspector": {
   "cols": {
    "lenName": 16,
    "lenType": 16,
    "lenVar": 40
   },
   "kernels_config": {
    "python": {
     "delete_cmd_postfix": "",
     "delete_cmd_prefix": "del ",
     "library": "var_list.py",
     "varRefreshCmd": "print(var_dic_list())"
    },
    "r": {
     "delete_cmd_postfix": ") ",
     "delete_cmd_prefix": "rm(",
     "library": "var_list.r",
     "varRefreshCmd": "cat(var_dic_list()) "
    }
   },
   "types_to_exclude": [
    "module",
    "function",
    "builtin_function_or_method",
    "instance",
    "_Feature"
   ],
   "window_display": false
  }
 },
 "nbformat": 4,
 "nbformat_minor": 4
}
